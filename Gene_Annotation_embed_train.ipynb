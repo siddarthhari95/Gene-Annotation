{
 "cells": [
  {
   "cell_type": "markdown",
   "metadata": {},
   "source": [
    "<h3> Importing Libraries </h3>"
   ]
  },
  {
   "cell_type": "code",
   "execution_count": 103,
   "metadata": {},
   "outputs": [],
   "source": [
    "import pandas as pd\n",
    "import torch\n",
    "import torch.nn as nn\n",
    "import torch.nn.functional as F\n",
    "import torch.optim as optim\n",
    "import torch.nn as nn\n",
    "import torch.nn.functional as F\n",
    "import torch.optim as optim\n",
    "import torch.autograd as autograd\n",
    "import matplotlib.pyplot as plt"
   ]
  },
  {
   "cell_type": "markdown",
   "metadata": {},
   "source": [
    "<h3> Loading +/- Data </h3>"
   ]
  },
  {
   "cell_type": "code",
   "execution_count": 104,
   "metadata": {},
   "outputs": [],
   "source": [
    "# Load positive and negative data sets as dataframe\n",
    "positive_data = pd.read_csv('../deep_annotator_data/positive_sample.txt', header=None, nrows=2000)\n",
    "positive_data.columns = [\"Gene\"]\n",
    "negative_data = pd.read_csv('../deep_annotator_data/negative_sample.txt', header=None, nrows=2000)\n",
    "negative_data.columns = [\"Gene\"]\n",
    "data_ = pd.concat([positive_data, negative_data])\n",
    "positive_test_data = pd.read_fwf('positive_sample_test.txt', header = None)\n",
    "positive_test_data.columns = [\"Gene\"]\n",
    "negative_test_data = pd.read_fwf('negative_sample_test.txt', header = None)\n",
    "negative_test_data.columns = [\"Gene\"]\n",
    "data_test = pd.concat([positive_test_data, negative_test_data])"
   ]
  },
  {
   "cell_type": "markdown",
   "metadata": {},
   "source": [
    "<h3> Hyper Parameters </h3>"
   ]
  },
  {
   "cell_type": "code",
   "execution_count": 105,
   "metadata": {},
   "outputs": [],
   "source": [
    "batch_size = 1\n",
    "embedding_size = 5\n",
    "window = 1\n",
    "fc_layer_size = (len(positive_data.Gene[0])-(window-1))*embedding_size\n",
    "hidden_layer_size = 100\n",
    "num_layers = 2\n",
    "epochs = 800\n",
    "lr = 0.008"
   ]
  },
  {
   "cell_type": "markdown",
   "metadata": {},
   "source": [
    "<h3> Generate word IDs <h3>"
   ]
  },
  {
   "cell_type": "code",
   "execution_count": 106,
   "metadata": {},
   "outputs": [
    {
     "name": "stdout",
     "output_type": "stream",
     "text": [
      "{'0': 0, '1': 1, '2': 2, '3': 3, '4': 4}\n"
     ]
    }
   ],
   "source": [
    "strings = set()\n",
    "def allLexicographicRecur (string, data, last, index): \n",
    "    length = len(string)\n",
    "    for i in range(length): \n",
    "        data[index] = string[i] \n",
    "        if index==last:\n",
    "            res = ''.join(data)\n",
    "            strings.add(res)\n",
    "        else: \n",
    "            allLexicographicRecur(string, data, last, index+1) \n",
    "def allLexicographic(string, n): \n",
    "    length = len(string)\n",
    "    data = [\"\"] * (length+1)\n",
    "    string = sorted(string) \n",
    "    allLexicographicRecur(string, data, window-1, 0)\n",
    "string = \"01234\"\n",
    "allLexicographic(string, window)\n",
    "strings = sorted(strings)\n",
    "vocabulary = {}\n",
    "for val, i in enumerate(strings):\n",
    "    vocabulary[i] = val\n",
    "print(vocabulary)"
   ]
  },
  {
   "cell_type": "markdown",
   "metadata": {},
   "source": [
    "<h3> Generate Word Embeddings </h3>"
   ]
  },
  {
   "cell_type": "code",
   "execution_count": 107,
   "metadata": {},
   "outputs": [],
   "source": [
    "# embeds = nn.Embedding(len(vocabulary), 5)\n",
    "# embeddings = {}\n",
    "# def generate_embeddings():\n",
    "#     for word in vocabulary:\n",
    "#         embeddings[word] = embeds(torch.tensor(vocabulary[word], dtype=torch.long)).type(torch.LongTensor)\n",
    "\n",
    "# generate_embeddings()\n",
    "# print(embeddings['0'].type())"
   ]
  },
  {
   "cell_type": "code",
   "execution_count": 108,
   "metadata": {},
   "outputs": [],
   "source": [
    "def generate_samples(data_sample):\n",
    "    list_of_tensors = []\n",
    "    for data in data_sample.itertuples():\n",
    "        for i in range(len(data.Gene) - window + 1):\n",
    "            if i == 0:\n",
    "                first_tensor = embeddings[data.Gene[i:i+window]]\n",
    "            else:\n",
    "                first_tensor = torch.cat((first_tensor, embeddings[data.Gene[i:i+window]]), 0)\n",
    "        list_of_tensors.append(first_tensor)\n",
    "    trainpositives = torch.stack(list_of_tensors)\n",
    "    return trainpositives\n",
    "\n",
    "# positives = generate_samples(positive_data)\n",
    "# print(positives.type())\n",
    "# negatives = generate_samples(negative_data)\n",
    "# print(negatives.type())\n",
    "# data_ = torch.cat([positives, negatives], dim=0)\n",
    "# print(data_.type())\n",
    "\n",
    "negative_labels = torch.zeros(2000, 1)\n",
    "positive_labels = torch.ones(2000, 1)\n",
    "labels_ = torch.cat([positive_labels, negative_labels], dim=0)"
   ]
  },
  {
   "cell_type": "markdown",
   "metadata": {},
   "source": [
    "<h3> Neural Network Layer Implementation </h3>"
   ]
  },
  {
   "cell_type": "code",
   "execution_count": 115,
   "metadata": {},
   "outputs": [],
   "source": [
    "class Net(nn.Module):\n",
    "    def __init__(self):\n",
    "        super(Net, self).__init__()\n",
    "        self.embeds = nn.Embedding(len(vocabulary), 5)\n",
    "        self.lstm = nn.LSTM(fc_layer_size, fc_layer_size, num_layers)\n",
    "        self.fc1 = nn.Linear(fc_layer_size, hidden_layer_size)\n",
    "        self.dropout = nn.Dropout(p=0.4)\n",
    "        self.relu1 = nn.Sigmoid()\n",
    "        self.out = nn.Linear(hidden_layer_size, 1)\n",
    "        self.out_act = nn.Sigmoid()\n",
    "\n",
    "    def forward(self, x):\n",
    "        h = autograd.Variable(torch.randn(num_layers, 1, fc_layer_size))\n",
    "        c = autograd.Variable(torch.randn(num_layers, 1, fc_layer_size))\n",
    "        z = self.embeds(x).view((1,-1))\n",
    "#         print(z)\n",
    "        out_lstm, hn = self.lstm(z, (h, c))\n",
    "        a1 = self.fc1(z)\n",
    "        d1 = self.dropout(a1)\n",
    "        h1 = self.relu1(a1)\n",
    "        a3 = self.out(h1)\n",
    "        y = self.out_act(a3)\n",
    "        return y\n",
    "net = Net()"
   ]
  },
  {
   "cell_type": "markdown",
   "metadata": {},
   "source": [
    "<h4> Optimizer step and loss calculation </h4>"
   ]
  },
  {
   "cell_type": "code",
   "execution_count": 116,
   "metadata": {},
   "outputs": [],
   "source": [
    "opt = optim.SGD(net.parameters(), lr, momentum=0.0)\n",
    "criterion = nn.BCELoss()"
   ]
  },
  {
   "cell_type": "markdown",
   "metadata": {},
   "source": [
    "<h4> Train method </h4>"
   ]
  },
  {
   "cell_type": "code",
   "execution_count": 117,
   "metadata": {},
   "outputs": [],
   "source": [
    "def train_epoch(model, opt, criterion, batch_size=1):\n",
    "    model.train()\n",
    "    losses = []\n",
    "    c = 0\n",
    "    wrong, correct = 0, 0\n",
    "    for data in data_.itertuples():\n",
    "        \n",
    "        data_batch = torch.tensor([vocabulary[data.Gene[i:i+window]] for i in range(0, len(data.Gene) - window + 1)], dtype=torch.long)\n",
    "        labels_batch = labels_[c]\n",
    "        c+=1\n",
    "        data_batch = autograd.Variable(data_batch)\n",
    "        labels_batch = autograd.Variable(labels_batch)\n",
    "\n",
    "        opt.zero_grad()\n",
    "        \n",
    "        # Extend the side of the data_batch to adhere to LSTM layer implementation\n",
    "        # data_batch.unsqueeze_(0)\n",
    "        # data_batch = data_batch.expand(1, batch_size, fc_layer_size)\n",
    "        labels_hat = net(data_batch)\n",
    "        \n",
    "        # Compute the binary Cross Entropy Loss\n",
    "        loss = criterion(labels_hat, labels_batch)\n",
    "\n",
    "        loss.backward()\n",
    "\n",
    "        opt.step()        \n",
    "        losses.append(loss.data.numpy())\n",
    "        correct, wrong = get_train_accuracy(labels_hat, c, len(labels_), correct, wrong)\n",
    "    loss = sum(losses)/len(losses)\n",
    "    return loss,correct,wrong"
   ]
  },
  {
   "cell_type": "markdown",
   "metadata": {},
   "source": [
    "<h4> Train Accuracy </h4>"
   ]
  },
  {
   "cell_type": "code",
   "execution_count": 118,
   "metadata": {},
   "outputs": [],
   "source": [
    "def get_train_accuracy(label, index, data_size, correct, wrong):    \n",
    "    if index < data_size/2+1:\n",
    "        if label > 0.5:\n",
    "            correct += 1\n",
    "        else:\n",
    "            wrong += 1\n",
    "    else:\n",
    "        if label > 0.5:\n",
    "            wrong += 1\n",
    "        else:\n",
    "            correct += 1\n",
    "    return correct, wrong"
   ]
  },
  {
   "cell_type": "code",
   "execution_count": 122,
   "metadata": {},
   "outputs": [],
   "source": [
    "def train():\n",
    "    losses = []\n",
    "    accuracies = []\n",
    "    test_acc = []\n",
    "    for e in range(epochs):\n",
    "        loss, c, w = train_epoch(net, opt, criterion, batch_size)\n",
    "        accuracies.append(100*(c/(c+w)))\n",
    "        losses.append(loss)\n",
    "        if e % 20 == 0:\n",
    "            print('Average Loss at epoch,',e,':',loss)\n",
    "        torch.save(net.state_dict(), 'fc_with_lstm.pt')\n",
    "        correct, wrong = load_test_model()\n",
    "        test_acc.append(100*(correct/(correct+wrong)))\n",
    "    plt.plot(losses)\n",
    "    return accuracies, test_acc\n",
    "acc,test = train()"
   ]
  },
  {
   "cell_type": "code",
   "execution_count": 121,
   "metadata": {},
   "outputs": [
    {
     "data": {
      "text/plain": [
       "[<matplotlib.lines.Line2D at 0x125dd62e8>]"
      ]
     },
     "execution_count": 121,
     "metadata": {},
     "output_type": "execute_result"
    },
    {
     "data": {
      "image/png": "[encoded data removed]",
      "text/plain": [
       "<Figure size 432x288 with 1 Axes>"
      ]
     },
     "metadata": {
      "needs_background": "light"
     },
     "output_type": "display_data"
    }
   ],
   "source": [
    "plt.plot(acc)\n",
    "plt.plot(test)"
   ]
  },
  {
   "cell_type": "markdown",
   "metadata": {},
   "source": [
    "<h3> Test Data Prediction </h3>"
   ]
  },
  {
   "cell_type": "markdown",
   "metadata": {},
   "source": [
    "<h4> Load the Model and test data </h4>"
   ]
  },
  {
   "cell_type": "code",
   "execution_count": 88,
   "metadata": {},
   "outputs": [],
   "source": [
    "def load_test_model():\n",
    "    #load model\n",
    "    model = Net()\n",
    "    model.load_state_dict(torch.load('fc_with_lstm.pt'))\n",
    "    model.eval()\n",
    "    # load data\n",
    "    labels_predicted = []\n",
    "    return test_prediction_model(data_test, labels_predicted)"
   ]
  },
  {
   "cell_type": "markdown",
   "metadata": {},
   "source": [
    "<h4> Generate output labels for test predictions </h4>"
   ]
  },
  {
   "cell_type": "code",
   "execution_count": 89,
   "metadata": {},
   "outputs": [],
   "source": [
    "def test_prediction_model(data_test, labels_predicted):\n",
    "    correct, wrong = 0, 0\n",
    "    for data in data_test.itertuples():\n",
    "        data_testing = torch.tensor([vocabulary[data.Gene[i:i+window]] for i in range(0, len(data.Gene) - window + 1)], dtype=torch.long)\n",
    "        # data_test_.unsqueeze_(0)\n",
    "        # data_testing = data_test_.expand(1, batch_size, fc_layer_size)\n",
    "        labels_hat = net(data_testing)\n",
    "        labels_predicted.append(labels_hat[0])\n",
    "    for i in range(len(labels_predicted)//2 + 1):\n",
    "        if labels_predicted[i] > 0.5:\n",
    "            correct += 1\n",
    "        else:\n",
    "            wrong += 1\n",
    "    for i in range(101, len(labels_predicted)):\n",
    "        if labels_predicted[i] > 0.5:\n",
    "            wrong += 1\n",
    "        else:\n",
    "            correct += 1\n",
    "    return correct,wrong\n",
    "    "
   ]
  },
  {
   "cell_type": "markdown",
   "metadata": {},
   "source": [
    "<h4> Accuracy for Test predictions </h4>"
   ]
  },
  {
   "cell_type": "code",
   "execution_count": 90,
   "metadata": {},
   "outputs": [],
   "source": [
    "def test_prediction_accuracy(labels):\n",
    "    correct, wrong = 0, 0\n",
    "    labels_hat = labels\n",
    "    for i in range(len(labels_hat)//2 + 1):\n",
    "        if labels_hat[i] > 0.5:\n",
    "            correct += 1\n",
    "        else:\n",
    "            wrong += 1\n",
    "    for i in range(101, len(labels_hat)):\n",
    "        if labels_hat[i] > 0.5:\n",
    "            wrong += 1\n",
    "        else:\n",
    "            correct += 1\n",
    "    return (correct,wrong)"
   ]
  },
  {
   "cell_type": "code",
   "execution_count": 123,
   "metadata": {},
   "outputs": [],
   "source": [
    "batch_size = 100\n",
    "embedding_size = 5\n",
    "fc_layer_size = (len(positive_data.Gene[0])-(window-1))*embedding_size\n",
    "hidden_layer_size = 100\n",
    "num_layers = 2\n",
    "epochs = 500\n",
    "lr = 0.02\n",
    "# train()\n",
    "# labels = []\n",
    "# test_prediction_model(data_test, labels)\n",
    "# results = test_prediction_accuracy(labels)\n",
    "# print(\"Correct Predictions:\", results[0])\n",
    "# print(\"Wrong Predictions:\", results[1])"
   ]
  },
  {
   "cell_type": "code",
   "execution_count": null,
   "metadata": {},
   "outputs": [],
   "source": []
  }
 ],
 "metadata": {
  "kernelspec": {
   "display_name": "Python 3",
   "language": "python",
   "name": "python3"
  },
  "language_info": {
   "codemirror_mode": {
    "name": "ipython",
    "version": 3
   },
   "file_extension": ".py",
   "mimetype": "text/x-python",
   "name": "python",
   "nbconvert_exporter": "python",
   "pygments_lexer": "ipython3",
   "version": "3.7.1"
  }
 },
 "nbformat": 4,
 "nbformat_minor": 2
}
