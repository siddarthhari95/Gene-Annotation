{
 "cells": [
  {
   "cell_type": "markdown",
   "metadata": {},
   "source": [
    "<h3> Importing Libraries </h3>"
   ]
  },
  {
   "cell_type": "code",
   "execution_count": 183,
   "metadata": {},
   "outputs": [],
   "source": [
    "import pandas as pd\n",
    "import torch\n",
    "import torch.nn as nn\n",
    "import torch.nn.functional as F\n",
    "import torch.optim as optim\n",
    "import torch.nn as nn\n",
    "import torch.nn.functional as F\n",
    "import torch.optim as optim\n",
    "import torch.autograd as autograd\n",
    "import matplotlib.pyplot as plt"
   ]
  },
  {
   "cell_type": "markdown",
   "metadata": {},
   "source": [
    "<h3> Loading +/- Data </h3>"
   ]
  },
  {
   "cell_type": "code",
   "execution_count": 184,
   "metadata": {},
   "outputs": [],
   "source": [
    "# Load positive and negative data sets as dataframe\n",
    "positive_data = pd.read_csv('../deep_annotator_data/positive_sample.txt', header=None, nrows=1000)\n",
    "positive_data.columns = [\"Gene\"]\n",
    "negative_data = pd.read_csv('../deep_annotator_data/negative_sample.txt', header=None, nrows=1000)\n",
    "negative_data.columns = [\"Gene\"]\n",
    "data_ = pd.concat([positive_data, negative_data])"
   ]
  },
  {
   "cell_type": "markdown",
   "metadata": {},
   "source": [
    "<h3> Hyper Parameters </h3>"
   ]
  },
  {
   "cell_type": "code",
   "execution_count": 220,
   "metadata": {},
   "outputs": [],
   "source": [
    "batch_size = 1\n",
    "embedding_size = 5\n",
    "window = 1\n",
    "fc_layer_size = (len(positive_data.Gene[0])-(window-1))*embedding_size\n",
    "hidden_layer_size = 100\n",
    "num_layers = 2\n",
    "epochs = 100\n",
    "lr = 0.01"
   ]
  },
  {
   "cell_type": "markdown",
   "metadata": {},
   "source": [
    "<h3> Generate word IDs <h3>"
   ]
  },
  {
   "cell_type": "code",
   "execution_count": 221,
   "metadata": {},
   "outputs": [
    {
     "name": "stdout",
     "output_type": "stream",
     "text": [
      "{'0': 0, '1': 1, '2': 2, '3': 3, '4': 4}\n"
     ]
    }
   ],
   "source": [
    "strings = set()\n",
    "def allLexicographicRecur (string, data, last, index): \n",
    "    length = len(string)\n",
    "    for i in range(length): \n",
    "        data[index] = string[i] \n",
    "        if index==last:\n",
    "            res = ''.join(data)\n",
    "            strings.add(res)\n",
    "        else: \n",
    "            allLexicographicRecur(string, data, last, index+1) \n",
    "def allLexicographic(string, n): \n",
    "    length = len(string)\n",
    "    data = [\"\"] * (length+1)\n",
    "    string = sorted(string) \n",
    "    allLexicographicRecur(string, data, window-1, 0)\n",
    "string = \"01234\"\n",
    "allLexicographic(string, window)\n",
    "strings = sorted(strings)\n",
    "vocabulary = {}\n",
    "for val, i in enumerate(strings):\n",
    "    vocabulary[i] = val\n",
    "print(vocabulary)"
   ]
  },
  {
   "cell_type": "markdown",
   "metadata": {},
   "source": [
    "<h3> Generate Word Embeddings </h3>"
   ]
  },
  {
   "cell_type": "code",
   "execution_count": 222,
   "metadata": {},
   "outputs": [],
   "source": [
    "# embeds = nn.Embedding(len(vocabulary), 5)\n",
    "# embeddings = {}\n",
    "# def generate_embeddings():\n",
    "#     for word in vocabulary:\n",
    "#         embeddings[word] = embeds(torch.tensor(vocabulary[word], dtype=torch.long)).type(torch.LongTensor)\n",
    "\n",
    "# generate_embeddings()\n",
    "# print(embeddings['0'].type())"
   ]
  },
  {
   "cell_type": "code",
   "execution_count": 223,
   "metadata": {},
   "outputs": [],
   "source": [
    "def generate_samples(data_sample):\n",
    "    list_of_tensors = []\n",
    "    for data in data_sample.itertuples():\n",
    "        for i in range(len(data.Gene) - window + 1):\n",
    "            if i == 0:\n",
    "                first_tensor = embeddings[data.Gene[i:i+window]]\n",
    "            else:\n",
    "                first_tensor = torch.cat((first_tensor, embeddings[data.Gene[i:i+window]]), 0)\n",
    "        list_of_tensors.append(first_tensor)\n",
    "    trainpositives = torch.stack(list_of_tensors)\n",
    "    return trainpositives\n",
    "\n",
    "# positives = generate_samples(positive_data)\n",
    "# print(positives.type())\n",
    "# negatives = generate_samples(negative_data)\n",
    "# print(negatives.type())\n",
    "# data_ = torch.cat([positives, negatives], dim=0)\n",
    "# print(data_.type())\n",
    "\n",
    "negative_labels = torch.zeros(negatives.shape[0], 1)\n",
    "positive_labels = torch.ones(positives.shape[0], 1)\n",
    "labels_ = torch.cat([positive_labels, negative_labels], dim=0)"
   ]
  },
  {
   "cell_type": "markdown",
   "metadata": {},
   "source": [
    "<h3> Neural Network Layer Implementation </h3>"
   ]
  },
  {
   "cell_type": "code",
   "execution_count": 224,
   "metadata": {},
   "outputs": [],
   "source": [
    "class Net(nn.Module):\n",
    "    def __init__(self):\n",
    "        super(Net, self).__init__()\n",
    "        self.embeds = nn.Embedding(len(vocabulary), 5)\n",
    "        self.lstm = nn.LSTM(fc_layer_size, fc_layer_size, num_layers)\n",
    "        self.fc1 = nn.Linear(fc_layer_size, hidden_layer_size)\n",
    "        self.relu1 = nn.Sigmoid()\n",
    "        self.out = nn.Linear(hidden_layer_size, 1)\n",
    "        self.out_act = nn.Sigmoid()\n",
    "\n",
    "    def forward(self, x):\n",
    "        h = autograd.Variable(torch.randn(num_layers, batch_size, fc_layer_size))\n",
    "        c = autograd.Variable(torch.randn(num_layers, batch_size, fc_layer_size))\n",
    "        z = self.embeds(x).view((1,-1))\n",
    "#         print(z)\n",
    "#         out_lstm, hn = self.lstm(z, (h, c))\n",
    "        a1 = self.fc1(z)\n",
    "        h1 = self.relu1(a1)\n",
    "        a3 = self.out(h1)\n",
    "        y = self.out_act(a3)\n",
    "        return y\n",
    "net = Net()"
   ]
  },
  {
   "cell_type": "markdown",
   "metadata": {},
   "source": [
    "<h4> Optimizer step and loss calculation </h4>"
   ]
  },
  {
   "cell_type": "code",
   "execution_count": 225,
   "metadata": {},
   "outputs": [],
   "source": [
    "opt = optim.SGD(net.parameters(), lr, momentum=0.0)\n",
    "criterion = nn.BCELoss()"
   ]
  },
  {
   "cell_type": "markdown",
   "metadata": {},
   "source": [
    "<h4> Train method </h4>"
   ]
  },
  {
   "cell_type": "code",
   "execution_count": 226,
   "metadata": {},
   "outputs": [],
   "source": [
    "def train_epoch(model, opt, criterion, batch_size=1):\n",
    "    model.train()\n",
    "    losses = []\n",
    "    c = 0\n",
    "    for data in data_.itertuples():\n",
    "        \n",
    "        data_batch = torch.tensor([vocabulary[data.Gene[i:i+window]] for i in range(0, len(data.Gene) - window + 1)], dtype=torch.long)\n",
    "        labels_batch = labels_[c]\n",
    "        c+=1\n",
    "        data_batch = autograd.Variable(data_batch)\n",
    "        labels_batch = autograd.Variable(labels_batch)\n",
    "\n",
    "        opt.zero_grad()\n",
    "        \n",
    "        # Extend the side of the data_batch to adhere to LSTM layer implementation\n",
    "        # data_batch.unsqueeze_(0)\n",
    "        # data_batch = data_batch.expand(1, batch_size, fc_layer_size)\n",
    "        labels_hat = net(data_batch)\n",
    "        \n",
    "        # Compute the binary Cross Entropy Loss\n",
    "        loss = criterion(labels_hat, labels_batch)\n",
    "\n",
    "        loss.backward()\n",
    "\n",
    "        opt.step()        \n",
    "        losses.append(loss.data.numpy())\n",
    "    loss = sum(losses)/len(losses)\n",
    "    return loss"
   ]
  },
  {
   "cell_type": "code",
   "execution_count": 227,
   "metadata": {},
   "outputs": [
    {
     "name": "stdout",
     "output_type": "stream",
     "text": [
      "Average Loss at epoch, 0 : 0.046304432549281044\n",
      "Average Loss at epoch, 2 : 0.06557600355957402\n",
      "Average Loss at epoch, 4 : 0.04237065669041476\n",
      "Average Loss at epoch, 6 : 0.028904671456970392\n",
      "Average Loss at epoch, 8 : 0.024026454277598534\n",
      "Average Loss at epoch, 10 : 0.020993312279793827\n",
      "Average Loss at epoch, 12 : 0.018478478838262164\n",
      "Average Loss at epoch, 14 : 0.01660286415192178\n",
      "Average Loss at epoch, 16 : 0.01520521594021602\n",
      "Average Loss at epoch, 18 : 0.014141474395715534\n",
      "Average Loss at epoch, 20 : 0.013318969024315145\n",
      "Average Loss at epoch, 22 : 0.012608414226350263\n",
      "Average Loss at epoch, 24 : 0.01189078192320261\n",
      "Average Loss at epoch, 26 : 0.011199211213542235\n",
      "Average Loss at epoch, 28 : 0.010625393995910642\n",
      "Average Loss at epoch, 30 : 0.010094715364414562\n",
      "Average Loss at epoch, 32 : 0.009591535569974831\n",
      "Average Loss at epoch, 34 : 0.009101976967259319\n",
      "Average Loss at epoch, 36 : 0.00862817637571272\n",
      "Average Loss at epoch, 38 : 0.00822585036047154\n",
      "Average Loss at epoch, 40 : 0.007886459284637815\n",
      "Average Loss at epoch, 42 : 0.007539081716959643\n",
      "Average Loss at epoch, 44 : 0.007171449041471675\n",
      "Average Loss at epoch, 46 : 0.0067958169364163296\n",
      "Average Loss at epoch, 48 : 0.006443972249923796\n",
      "Average Loss at epoch, 50 : 0.0061248134926005305\n",
      "Average Loss at epoch, 52 : 0.005817552237712334\n",
      "Average Loss at epoch, 54 : 0.0054931179042065495\n",
      "Average Loss at epoch, 56 : 0.005151993095367082\n",
      "Average Loss at epoch, 58 : 0.004814263337837168\n",
      "Average Loss at epoch, 60 : 0.004495311422584891\n",
      "Average Loss at epoch, 62 : 0.004196057749308196\n",
      "Average Loss at epoch, 64 : 0.003911328433542245\n",
      "Average Loss at epoch, 66 : 0.003631820091107521\n",
      "Average Loss at epoch, 68 : 0.0033537365295565353\n",
      "Average Loss at epoch, 70 : 0.0030714787371220495\n",
      "Average Loss at epoch, 72 : 0.0027828731409049326\n",
      "Average Loss at epoch, 74 : 0.002493517008681266\n",
      "Average Loss at epoch, 76 : 0.002210321013575758\n",
      "Average Loss at epoch, 78 : 0.0019387984544021607\n",
      "Average Loss at epoch, 80 : 0.0016864018515077887\n",
      "Average Loss at epoch, 82 : 0.0014579690452621605\n",
      "Average Loss at epoch, 84 : 0.00125524336680418\n",
      "Average Loss at epoch, 86 : 0.0010797925759338228\n",
      "Average Loss at epoch, 88 : 0.0009322771506017773\n",
      "Average Loss at epoch, 90 : 0.000811475814511013\n",
      "Average Loss at epoch, 92 : 0.00071428088202466\n",
      "Average Loss at epoch, 94 : 0.0006365348770668575\n",
      "Average Loss at epoch, 96 : 0.0005740666820147098\n",
      "Average Loss at epoch, 98 : 0.0005233231227382973\n"
     ]
    },
    {
     "data": {
      "image/png": "[encoded data removed]",
      "text/plain": [
       "<Figure size 432x288 with 1 Axes>"
      ]
     },
     "metadata": {
      "needs_background": "light"
     },
     "output_type": "display_data"
    }
   ],
   "source": [
    "def train():\n",
    "    losses = []\n",
    "    for e in range(epochs):\n",
    "        loss = train_epoch(net, opt, criterion, batch_size)\n",
    "        losses.append(loss)\n",
    "        if e % 2 == 0:\n",
    "            print('Average Loss at epoch,',e,':',loss)\n",
    "    torch.save(net.state_dict(), 'fc_with_lstm.pt')\n",
    "    plt.plot(losses)\n",
    "train()"
   ]
  },
  {
   "cell_type": "markdown",
   "metadata": {},
   "source": [
    "<h3> Test Data Prediction </h3>"
   ]
  },
  {
   "cell_type": "markdown",
   "metadata": {},
   "source": [
    "<h4> Load the Model and test data </h4>"
   ]
  },
  {
   "cell_type": "code",
   "execution_count": 228,
   "metadata": {},
   "outputs": [
    {
     "name": "stdout",
     "output_type": "stream",
     "text": [
      "Net(\n",
      "  (embeds): Embedding(5, 5)\n",
      "  (lstm): LSTM(505, 505, num_layers=2)\n",
      "  (fc1): Linear(in_features=505, out_features=100, bias=True)\n",
      "  (relu1): Sigmoid()\n",
      "  (out): Linear(in_features=100, out_features=1, bias=True)\n",
      "  (out_act): Sigmoid()\n",
      ")\n"
     ]
    }
   ],
   "source": [
    "#load model\n",
    "model = Net()\n",
    "model.load_state_dict(torch.load('fc_with_lstm.pt'))\n",
    "model.eval()\n",
    "print(model)\n",
    "# load data\n",
    "positive_test_data = pd.read_fwf('positive_sample_test.txt', header = None)\n",
    "positive_test_data.columns = [\"Gene\"]\n",
    "negative_test_data = pd.read_fwf('negative_sample_test.txt', header = None)\n",
    "negative_test_data.columns = [\"Gene\"]"
   ]
  },
  {
   "cell_type": "markdown",
   "metadata": {},
   "source": [
    "<h4> Test and Label Embeddings </h4>"
   ]
  },
  {
   "cell_type": "code",
   "execution_count": 230,
   "metadata": {},
   "outputs": [],
   "source": [
    "data_test = pd.concat([positive_test_data, negative_test_data])"
   ]
  },
  {
   "cell_type": "markdown",
   "metadata": {},
   "source": [
    "<h4> Generate output labels for test predictions </h4>"
   ]
  },
  {
   "cell_type": "code",
   "execution_count": 231,
   "metadata": {},
   "outputs": [
    {
     "name": "stdout",
     "output_type": "stream",
     "text": [
      "179 21\n"
     ]
    }
   ],
   "source": [
    "def test_prediction_model(data_test, labels_predicted):\n",
    "    correct, wrong = 0, 0\n",
    "    for data in data_test.itertuples():\n",
    "        data_testing = torch.tensor([vocabulary[data.Gene[i:i+window]] for i in range(0, len(data.Gene) - window + 1)], dtype=torch.long)\n",
    "        # data_test_.unsqueeze_(0)\n",
    "        # data_testing = data_test_.expand(1, batch_size, fc_layer_size)\n",
    "        labels_hat = net(data_testing)\n",
    "        labels_predicted.append(labels_hat[0])\n",
    "    for i in range(len(labels_predicted)//2 + 1):\n",
    "        if labels_predicted[i] > 0.5:\n",
    "            correct += 1\n",
    "        else:\n",
    "            wrong += 1\n",
    "    for i in range(101, len(labels_predicted)):\n",
    "        if labels_predicted[i] > 0.5:\n",
    "            wrong += 1\n",
    "        else:\n",
    "            correct += 1\n",
    "    print(correct,wrong)\n",
    "labels_predicted = []\n",
    "test_prediction_model(data_test, labels_predicted)"
   ]
  },
  {
   "cell_type": "markdown",
   "metadata": {},
   "source": [
    "<h4> Accuracy for Test predictions </h4>"
   ]
  },
  {
   "cell_type": "code",
   "execution_count": 60,
   "metadata": {},
   "outputs": [],
   "source": [
    "def test_prediction_accuracy(labels):\n",
    "    correct, wrong = 0, 0\n",
    "    labels_hat = labels\n",
    "    for i in range(len(labels_hat)//2 + 1):\n",
    "        if labels_hat[i] > 0.5:\n",
    "            correct += 1\n",
    "        else:\n",
    "            wrong += 1\n",
    "    for i in range(101, len(labels_hat)):\n",
    "        if labels_hat[i] > 0.5:\n",
    "            wrong += 1\n",
    "        else:\n",
    "            correct += 1\n",
    "    return (correct,wrong)"
   ]
  },
  {
   "cell_type": "code",
   "execution_count": 198,
   "metadata": {},
   "outputs": [],
   "source": [
    "batch_size = 100\n",
    "embedding_size = 5\n",
    "fc_layer_size = (len(positive_data.Gene[0])-(window-1))*embedding_size\n",
    "hidden_layer_size = 100\n",
    "num_layers = 2\n",
    "epochs = 500\n",
    "lr = 0.02\n",
    "train()\n",
    "# labels = []\n",
    "# test_prediction_model(data_test, labels)\n",
    "# results = test_prediction_accuracy(labels)\n",
    "# print(\"Correct Predictions:\", results[0])\n",
    "# print(\"Wrong Predictions:\", results[1])"
   ]
  },
  {
   "cell_type": "code",
   "execution_count": null,
   "metadata": {},
   "outputs": [],
   "source": []
  }
 ],
 "metadata": {
  "kernelspec": {
   "display_name": "Python 3",
   "language": "python",
   "name": "python3"
  },
  "language_info": {
   "codemirror_mode": {
    "name": "ipython",
    "version": 3
   },
   "file_extension": ".py",
   "mimetype": "text/x-python",
   "name": "python",
   "nbconvert_exporter": "python",
   "pygments_lexer": "ipython3",
   "version": "3.7.1"
  }
 },
 "nbformat": 4,
 "nbformat_minor": 2
}
