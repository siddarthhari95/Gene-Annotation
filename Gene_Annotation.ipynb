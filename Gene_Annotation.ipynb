{
 "cells": [
  {
   "cell_type": "markdown",
   "metadata": {},
   "source": [
    "<h3> Importing Libraries </h3>"
   ]
  },
  {
   "cell_type": "code",
   "execution_count": 474,
   "metadata": {},
   "outputs": [
    {
     "data": {
      "text/plain": [
       "<torch._C.Generator at 0x116da9b50>"
      ]
     },
     "execution_count": 474,
     "metadata": {},
     "output_type": "execute_result"
    }
   ],
   "source": [
    "import pandas as pd\n",
    "import torch\n",
    "import torch.nn as nn\n",
    "import torch.nn.functional as F\n",
    "import torch.optim as optim\n",
    "import torch.nn as nn\n",
    "import torch.nn.functional as F\n",
    "import torch.optim as optim\n",
    "import torch.autograd as autograd\n",
    "import matplotlib.pyplot as plt\n",
    "torch.manual_seed(1)"
   ]
  },
  {
   "cell_type": "markdown",
   "metadata": {},
   "source": [
    "<h3> Loading +/- Data </h3>"
   ]
  },
  {
   "cell_type": "code",
   "execution_count": 490,
   "metadata": {},
   "outputs": [],
   "source": [
    "# Load positive and negative data sets as dataframe\n",
    "positive_data = pd.read_csv('deep_annotator_data/positive_sample.txt', header=None, nrows=10000)\n",
    "positive_data.columns = [\"Gene\"]\n",
    "negative_data = pd.read_csv('deep_annotator_data/negative_sample.txt', header=None, nrows=10000)\n",
    "negative_data.columns = [\"Gene\"]"
   ]
  },
  {
   "cell_type": "markdown",
   "metadata": {},
   "source": [
    "<h3> Generate word IDs <h3>"
   ]
  },
  {
   "cell_type": "code",
   "execution_count": 491,
   "metadata": {},
   "outputs": [],
   "source": [
    "strings = set()\n",
    "window = 1\n",
    "def allLexicographicRecur (string, data, last, index): \n",
    "    length = len(string)\n",
    "    for i in range(length): \n",
    "        data[index] = string[i] \n",
    "        if index==last:\n",
    "            res = ''.join(data)\n",
    "            strings.add(res)\n",
    "        else: \n",
    "            allLexicographicRecur(string, data, last, index+1) \n",
    "def allLexicographic(string, n): \n",
    "    length = len(string)\n",
    "    data = [\"\"] * (length+1)\n",
    "    string = sorted(string) \n",
    "    allLexicographicRecur(string, data, window-1, 0)\n",
    "string = \"01234\"\n",
    "allLexicographic(string, window)\n",
    "strings = sorted(strings)\n",
    "vocabulary = {}\n",
    "for val, i in enumerate(strings):\n",
    "    vocabulary[i] = val\n",
    "# print(word_ids)"
   ]
  },
  {
   "cell_type": "markdown",
   "metadata": {},
   "source": [
    "<h3> Generate Word Embeddings </h3>"
   ]
  },
  {
   "cell_type": "code",
   "execution_count": 492,
   "metadata": {},
   "outputs": [],
   "source": [
    "embeds = nn.Embedding(len(vocabulary), 5)\n",
    "embeddings = {}\n",
    "for word in vocabulary:\n",
    "    embeddings[word] = embeds(torch.tensor(vocabulary[word], dtype=torch.long))"
   ]
  },
  {
   "cell_type": "code",
   "execution_count": 493,
   "metadata": {},
   "outputs": [],
   "source": [
    "def generate_samples(data_sample):\n",
    "    list_of_tensors = []\n",
    "    for data in data_sample.itertuples():\n",
    "        for i in range(len(data.Gene) - window + 1):\n",
    "            if i == 0:\n",
    "                first_tensor = embeddings[data.Gene[i:i+window]]\n",
    "            else:\n",
    "                first_tensor = torch.cat((first_tensor, embeddings[data.Gene[i:i+window]]), 0)\n",
    "        list_of_tensors.append(first_tensor)\n",
    "    trainpositives = torch.stack(list_of_tensors)\n",
    "    return trainpositives\n",
    "\n",
    "positives = generate_samples(positive_data)\n",
    "negatives = generate_samples(negative_data)\n",
    "data_ = torch.cat([positives, negatives], dim=0)\n",
    "\n",
    "negative_labels = torch.zeros(negatives.shape[0], 1)\n",
    "positive_labels = torch.ones(positives.shape[0], 1)\n",
    "labels_ = torch.cat([positive_labels, negative_labels], dim=0)"
   ]
  },
  {
   "cell_type": "code",
   "execution_count": 494,
   "metadata": {},
   "outputs": [
    {
     "data": {
      "text/plain": [
       "torch.Size([20000, 1])"
      ]
     },
     "execution_count": 494,
     "metadata": {},
     "output_type": "execute_result"
    }
   ],
   "source": [
    "labels_.shape"
   ]
  },
  {
   "cell_type": "markdown",
   "metadata": {},
   "source": [
    "<h3> FC Layer </h3>"
   ]
  },
  {
   "cell_type": "code",
   "execution_count": 496,
   "metadata": {},
   "outputs": [],
   "source": [
    "class Net(nn.Module):\n",
    "    def __init__(self):\n",
    "        super(Net, self).__init__()\n",
    "        self.fc1 = nn.Linear(505, 505)\n",
    "        self.relu1 = nn.Sigmoid()\n",
    "        self.fc2 = nn.Linear(505, 100)\n",
    "        self.prelu = nn.Sigmoid()\n",
    "        self.out = nn.Linear(100, 1)\n",
    "        self.out_act = nn.Sigmoid()\n",
    "\n",
    "    def forward(self, x):\n",
    "        a1 = self.fc1(x)\n",
    "        h1 = self.relu1(a1)\n",
    "        #dout = self.dout(h1)\n",
    "        a2 = self.fc2(h1)\n",
    "        h2 = self.prelu(a2)\n",
    "        a3 = self.out(h2)\n",
    "        y = self.out_act(a3)\n",
    "        return y\n",
    "net = Net()"
   ]
  },
  {
   "cell_type": "code",
   "execution_count": 497,
   "metadata": {},
   "outputs": [],
   "source": [
    "opt = optim.Adam(net.parameters(), lr=0.001, betas=(0.9, 0.999))\n",
    "criterion = nn.BCELoss()"
   ]
  },
  {
   "cell_type": "code",
   "execution_count": 498,
   "metadata": {},
   "outputs": [],
   "source": [
    "def train_epoch(model, opt, criterion, batch_size=50):\n",
    "    model.train()\n",
    "    losses = []\n",
    "    for beg_i in range(0, data_.size(0), batch_size):\n",
    "        data_batch = data_[beg_i:beg_i + batch_size, :]\n",
    "        labels_batch = labels_[beg_i:beg_i + batch_size, :]\n",
    "        data_batch = autograd.Variable(data_batch)\n",
    "        labels_batch = autograd.Variable(labels_batch)\n",
    "\n",
    "        opt.zero_grad()\n",
    "        # (1) Forward\n",
    "        labels_hat = net(data_batch)\n",
    "        # (2) Compute diff\n",
    "        loss = criterion(labels_hat, labels_batch)\n",
    "        # (3) Compute gradients\n",
    "        loss.backward()\n",
    "        # (4) update weights\n",
    "        opt.step()        \n",
    "        losses.append(loss.data.numpy())\n",
    "    loss = sum(losses)/len(losses)\n",
    "    return loss"
   ]
  },
  {
   "cell_type": "code",
   "execution_count": 499,
   "metadata": {},
   "outputs": [
    {
     "data": {
      "text/plain": [
       "[<matplotlib.lines.Line2D at 0x157feafd0>]"
      ]
     },
     "execution_count": 499,
     "metadata": {},
     "output_type": "execute_result"
    },
    {
     "data": {
      "image/png": "[encoded data removed]",
      "text/plain": [
       "<Figure size 432x288 with 1 Axes>"
      ]
     },
     "metadata": {
      "needs_background": "light"
     },
     "output_type": "display_data"
    }
   ],
   "source": [
    "losses = []\n",
    "epochs = 1000\n",
    "for e in range(epochs):\n",
    "    losses.append(train_epoch(net, opt, criterion))\n",
    "plt.plot(losses)"
   ]
  },
  {
   "cell_type": "code",
   "execution_count": null,
   "metadata": {},
   "outputs": [],
   "source": [
    "len(losses)"
   ]
  },
  {
   "cell_type": "code",
   "execution_count": null,
   "metadata": {},
   "outputs": [],
   "source": []
  }
 ],
 "metadata": {
  "kernelspec": {
   "display_name": "Python 3",
   "language": "python",
   "name": "python3"
  },
  "language_info": {
   "codemirror_mode": {
    "name": "ipython",
    "version": 3
   },
   "file_extension": ".py",
   "mimetype": "text/x-python",
   "name": "python",
   "nbconvert_exporter": "python",
   "pygments_lexer": "ipython3",
   "version": "3.7.1"
  }
 },
 "nbformat": 4,
 "nbformat_minor": 2
}
