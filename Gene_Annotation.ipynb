{
 "cells": [
  {
   "cell_type": "markdown",
   "metadata": {},
   "source": [
    "<h3> Importing Libraries </h3>"
   ]
  },
  {
   "cell_type": "code",
   "execution_count": 81,
   "metadata": {},
   "outputs": [],
   "source": [
    "import pandas as pd\n",
    "import torch\n",
    "import torch.nn as nn\n",
    "import torch.nn.functional as F\n",
    "import torch.optim as optim\n",
    "import torch.nn as nn\n",
    "import torch.nn.functional as F\n",
    "import torch.optim as optim\n",
    "import torch.autograd as autograd\n",
    "import matplotlib.pyplot as plt"
   ]
  },
  {
   "cell_type": "markdown",
   "metadata": {},
   "source": [
    "<h3> Loading +/- Data </h3>"
   ]
  },
  {
   "cell_type": "code",
   "execution_count": 82,
   "metadata": {},
   "outputs": [],
   "source": [
    "# Load positive and negative data sets as dataframe\n",
    "positive_data = pd.read_csv('../deep_annotator_data/positive_sample.txt', header=None, nrows=1000)\n",
    "positive_data.columns = [\"Gene\"]\n",
    "negative_data = pd.read_csv('../deep_annotator_data/negative_sample.txt', header=None, nrows=1000)\n",
    "negative_data.columns = [\"Gene\"]"
   ]
  },
  {
   "cell_type": "markdown",
   "metadata": {},
   "source": [
    "<h3> Hyper Parameters </h3>"
   ]
  },
  {
   "cell_type": "code",
   "execution_count": 83,
   "metadata": {},
   "outputs": [],
   "source": [
    "batch_size = 100\n",
    "embedding_size = 5\n",
    "window = 1\n",
    "fc_layer_size = (len(positive_data.Gene[0])-(window-1))*embedding_size\n",
    "hidden_layer_size = 100\n",
    "num_layers = 2\n",
    "epochs = 1000\n",
    "lr = 0.2"
   ]
  },
  {
   "cell_type": "markdown",
   "metadata": {},
   "source": [
    "<h3> Generate word IDs <h3>"
   ]
  },
  {
   "cell_type": "code",
   "execution_count": 84,
   "metadata": {},
   "outputs": [],
   "source": [
    "strings = set()\n",
    "def allLexicographicRecur (string, data, last, index): \n",
    "    length = len(string)\n",
    "    for i in range(length): \n",
    "        data[index] = string[i] \n",
    "        if index==last:\n",
    "            res = ''.join(data)\n",
    "            strings.add(res)\n",
    "        else: \n",
    "            allLexicographicRecur(string, data, last, index+1) \n",
    "def allLexicographic(string, n): \n",
    "    length = len(string)\n",
    "    data = [\"\"] * (length+1)\n",
    "    string = sorted(string) \n",
    "    allLexicographicRecur(string, data, window-1, 0)\n",
    "string = \"01234\"\n",
    "allLexicographic(string, window)\n",
    "strings = sorted(strings)\n",
    "vocabulary = {}\n",
    "for val, i in enumerate(strings):\n",
    "    vocabulary[i] = val\n",
    "# print(word_ids)"
   ]
  },
  {
   "cell_type": "markdown",
   "metadata": {},
   "source": [
    "<h3> Generate Word Embeddings </h3>"
   ]
  },
  {
   "cell_type": "code",
   "execution_count": 85,
   "metadata": {},
   "outputs": [],
   "source": [
    "embeds = nn.Embedding(len(vocabulary), 5)\n",
    "embeddings = {}\n",
    "def generate_embeddings():\n",
    "    for word in vocabulary:\n",
    "        embeddings[word] = embeds(torch.tensor(vocabulary[word], dtype=torch.long))\n",
    "\n",
    "generate_embeddings()"
   ]
  },
  {
   "cell_type": "code",
   "execution_count": 86,
   "metadata": {},
   "outputs": [],
   "source": [
    "def generate_samples(data_sample):\n",
    "    list_of_tensors = []\n",
    "    for data in data_sample.itertuples():\n",
    "        for i in range(len(data.Gene) - window + 1):\n",
    "            if i == 0:\n",
    "                first_tensor = embeddings[data.Gene[i:i+window]]\n",
    "            else:\n",
    "                first_tensor = torch.cat((first_tensor, embeddings[data.Gene[i:i+window]]), 0)\n",
    "        list_of_tensors.append(first_tensor)\n",
    "    trainpositives = torch.stack(list_of_tensors)\n",
    "    return trainpositives\n",
    "\n",
    "positives = generate_samples(positive_data)\n",
    "negatives = generate_samples(negative_data)\n",
    "data_ = torch.cat([positives, negatives], dim=0)\n",
    "\n",
    "negative_labels = torch.zeros(negatives.shape[0], 1)\n",
    "positive_labels = torch.ones(positives.shape[0], 1)\n",
    "labels_ = torch.cat([positive_labels, negative_labels], dim=0)"
   ]
  },
  {
   "cell_type": "markdown",
   "metadata": {},
   "source": [
    "<h3> Neural Network Layer Implementation </h3>"
   ]
  },
  {
   "cell_type": "code",
   "execution_count": 87,
   "metadata": {},
   "outputs": [],
   "source": [
    "class Net(nn.Module):\n",
    "    def __init__(self):\n",
    "        super(Net, self).__init__()\n",
    "        self.lstm = nn.LSTM(fc_layer_size, fc_layer_size, num_layers)\n",
    "        self.fc1 = nn.Linear(fc_layer_size, hidden_layer_size)\n",
    "        self.relu1 = nn.Sigmoid()\n",
    "        # self.fc2 = nn.Linear(fc_layer_size, hidden_layer_size)\n",
    "        # self.prelu = nn.Sigmoid()\n",
    "        self.out = nn.Linear(hidden_layer_size, 1)\n",
    "        self.out_act = nn.Sigmoid()\n",
    "\n",
    "    def forward(self, x):\n",
    "        h = autograd.Variable(torch.randn(num_layers, batch_size, fc_layer_size))\n",
    "        c = autograd.Variable(torch.randn(num_layers, batch_size, fc_layer_size))\n",
    "        out_lstm, hn = self.lstm(x, (h, c))\n",
    "        a1 = self.fc1(out_lstm)\n",
    "        h1 = self.relu1(a1)\n",
    "        # a2 = self.fc2(h1)\n",
    "        # h2 = self.prelu(a2)\n",
    "        a3 = self.out(h1)\n",
    "        y = self.out_act(a3)\n",
    "        return y\n",
    "net = Net()"
   ]
  },
  {
   "cell_type": "markdown",
   "metadata": {},
   "source": [
    "<h4> Optimizer step and loss calculation </h4>"
   ]
  },
  {
   "cell_type": "code",
   "execution_count": 88,
   "metadata": {},
   "outputs": [],
   "source": [
    "opt = optim.SGD(net.parameters(), lr, momentum=0.0)\n",
    "criterion = nn.BCELoss()"
   ]
  },
  {
   "cell_type": "markdown",
   "metadata": {},
   "source": [
    "<h4> Train method </h4>"
   ]
  },
  {
   "cell_type": "code",
   "execution_count": 89,
   "metadata": {},
   "outputs": [],
   "source": [
    "def train_epoch(model, opt, criterion, batch_size):\n",
    "    model.train()\n",
    "    losses = []\n",
    "    for beg_i in range(0, data_.size(0), batch_size):\n",
    "        data_batch = data_[beg_i:beg_i + batch_size, :]\n",
    "        labels_batch = labels_[beg_i:beg_i + batch_size, :]\n",
    "        data_batch = autograd.Variable(data_batch)\n",
    "        labels_batch = autograd.Variable(labels_batch)\n",
    "\n",
    "        opt.zero_grad()\n",
    "        \n",
    "        # Extend the side of the data_batch to adhere to LSTM layer implementation\n",
    "        data_batch.unsqueeze_(0)\n",
    "        data_batch = data_batch.expand(1, batch_size, fc_layer_size)\n",
    "        labels_hat = net(data_batch)\n",
    "        \n",
    "        # Compute the binary Cross Entropy Loss\n",
    "        loss = criterion(labels_hat, labels_batch)\n",
    "\n",
    "        loss.backward()\n",
    "\n",
    "        opt.step()        \n",
    "        losses.append(loss.data.numpy())\n",
    "    loss = sum(losses)/len(losses)\n",
    "    return loss"
   ]
  },
  {
   "cell_type": "code",
   "execution_count": 90,
   "metadata": {},
   "outputs": [],
   "source": [
    "def train():\n",
    "    losses = []\n",
    "    for e in range(epochs):\n",
    "        loss = train_epoch(net, opt, criterion, batch_size)\n",
    "        losses.append(loss)\n",
    "        if e % 200 == 0:\n",
    "            print('Average Loss at epoch,',e,':',loss)\n",
    "    torch.save(net.state_dict(), 'fc_with_lstm.pt')\n",
    "    plt.plot(losses)\n",
    "# train()"
   ]
  },
  {
   "cell_type": "markdown",
   "metadata": {},
   "source": [
    "<h3> Test Data Prediction </h3>"
   ]
  },
  {
   "cell_type": "markdown",
   "metadata": {},
   "source": [
    "<h4> Load the Model and test data </h4>"
   ]
  },
  {
   "cell_type": "code",
   "execution_count": 91,
   "metadata": {},
   "outputs": [],
   "source": [
    "#load model\n",
    "model = Net()\n",
    "model.load_state_dict(torch.load('fc_with_lstm.pt'))\n",
    "model.eval()\n",
    "\n",
    "# load data\n",
    "positive_test_data = pd.read_fwf('positive_sample_test.txt', header = None)\n",
    "positive_test_data.columns = [\"Gene\"]\n",
    "negative_test_data = pd.read_fwf('negative_sample_test.txt', header = None)\n",
    "negative_test_data.columns = [\"Gene\"]"
   ]
  },
  {
   "cell_type": "markdown",
   "metadata": {},
   "source": [
    "<h4> Test and Label Embeddings </h4>"
   ]
  },
  {
   "cell_type": "code",
   "execution_count": 92,
   "metadata": {},
   "outputs": [],
   "source": [
    "positives_test_data = generate_samples(positive_test_data)\n",
    "negatives_test_data = generate_samples(negative_test_data)\n",
    "\n",
    "data_test = torch.cat([positives_test_data, negatives_test_data], dim=0)\n",
    "\n",
    "negative_labels_test = torch.zeros(negatives_test_data.shape[0], 1)\n",
    "positive_labels_test = torch.ones(positives_test_data.shape[0], 1)\n",
    "labels_test = torch.cat([positive_labels_test, negative_labels_test], dim=0)"
   ]
  },
  {
   "cell_type": "markdown",
   "metadata": {},
   "source": [
    "<h4> Generate output labels for test predictions </h4>"
   ]
  },
  {
   "cell_type": "code",
   "execution_count": 93,
   "metadata": {},
   "outputs": [],
   "source": [
    "def test_prediction_model(data_test, labels_predicted):\n",
    "    for beg_i in range(0, len(data_test), batch_size):\n",
    "        data_test_ = data_test[beg_i:beg_i + batch_size, :]\n",
    "        data_test_.unsqueeze_(0)\n",
    "        data_testing = data_test_.expand(1, batch_size, fc_layer_size)\n",
    "        labels_hat = net(data_testing)\n",
    "        labels_hat = labels_hat.view(1,batch_size)\n",
    "        labels_hat = torch.transpose(labels_hat, 0, 1)\n",
    "#         softmax = nn.Softmax(0)\n",
    "#         labels_hat = softmax(labels_hat)\n",
    "        for temp in range(labels_hat.shape[0]):\n",
    "            labels_predicted.append(labels_hat[temp])\n",
    "        #labels_predicted += labels_hat.numpy()"
   ]
  },
  {
   "cell_type": "markdown",
   "metadata": {},
   "source": [
    "<h4> Accuracy for Test predictions </h4>"
   ]
  },
  {
   "cell_type": "code",
   "execution_count": 94,
   "metadata": {},
   "outputs": [],
   "source": [
    "def test_prediction_accuracy(labels):\n",
    "    correct, wrong = 0, 0\n",
    "    labels_hat = labels\n",
    "    for i in range(len(labels_hat)//2 + 1):\n",
    "        if labels_hat[i] > 0.5:\n",
    "            correct += 1\n",
    "        else:\n",
    "            wrong += 1\n",
    "    for i in range(101, len(labels_hat)):\n",
    "        if labels_hat[i] > 0.5:\n",
    "            wrong += 1\n",
    "        else:\n",
    "            correct += 1\n",
    "    return (correct,wrong)"
   ]
  },
  {
   "cell_type": "code",
   "execution_count": 95,
   "metadata": {},
   "outputs": [],
   "source": [
    "# labels = []\n",
    "# test_prediction_model(data_test, labels)\n",
    "# results = test_prediction_accuracy(labels)\n",
    "# print(\"Correct Predictions:\", results[0])\n",
    "# print(\"Wrong Predictions:\", results[1])"
   ]
  },
  {
   "cell_type": "code",
   "execution_count": 80,
   "metadata": {},
   "outputs": [
    {
     "name": "stdout",
     "output_type": "stream",
     "text": [
      "Average Loss at epoch, 0 : 0.28729404220357535\n",
      "Average Loss at epoch, 200 : 0.05692315120249987\n",
      "Average Loss at epoch, 400 : 0.0004712574940640479\n",
      "Average Loss at epoch, 600 : 0.00018168076830988867\n",
      "Correct Predictions: 170\n",
      "Wrong Predictions: 30\n"
     ]
    },
    {
     "data": {
      "image/png": "[encoded data removed]",
      "text/plain": [
       "<Figure size 432x288 with 1 Axes>"
      ]
     },
     "metadata": {
      "needs_background": "light"
     },
     "output_type": "display_data"
    }
   ],
   "source": [
    "batch_size = 100\n",
    "embedding_size = 5\n",
    "fc_layer_size = (len(positive_data.Gene[0])-(window-1))*embedding_size\n",
    "hidden_layer_size = 100\n",
    "num_layers = 2\n",
    "epochs = 700\n",
    "lr = 0.2\n",
    "train()\n",
    "labels = []\n",
    "test_prediction_model(data_test, labels)\n",
    "results = test_prediction_accuracy(labels)\n",
    "print(\"Correct Predictions:\", results[0])\n",
    "print(\"Wrong Predictions:\", results[1])"
   ]
  },
  {
   "cell_type": "code",
   "execution_count": 96,
   "metadata": {},
   "outputs": [
    {
     "name": "stdout",
     "output_type": "stream",
     "text": [
      "Average Loss at epoch, 0 : 0.29116923017427326\n",
      "Average Loss at epoch, 200 : 0.04407826946116984\n",
      "Correct Predictions: 175\n",
      "Wrong Predictions: 25\n"
     ]
    },
    {
     "data": {
      "image/png": "[encoded data removed]",
      "text/plain": [
       "<Figure size 432x288 with 1 Axes>"
      ]
     },
     "metadata": {
      "needs_background": "light"
     },
     "output_type": "display_data"
    }
   ],
   "source": [
    "batch_size = 100\n",
    "embedding_size = 5\n",
    "fc_layer_size = (len(positive_data.Gene[0])-(window-1))*embedding_size\n",
    "hidden_layer_size = 100\n",
    "num_layers = 2\n",
    "epochs = 300\n",
    "lr = 0.3\n",
    "train()\n",
    "labels = []\n",
    "test_prediction_model(data_test, labels)\n",
    "results = test_prediction_accuracy(labels)\n",
    "print(\"Correct Predictions:\", results[0])\n",
    "print(\"Wrong Predictions:\", results[1])"
   ]
  },
  {
   "cell_type": "code",
   "execution_count": 64,
   "metadata": {},
   "outputs": [
    {
     "name": "stdout",
     "output_type": "stream",
     "text": [
      "Average Loss at epoch, 0 : 0.2946872212924063\n",
      "Average Loss at epoch, 200 : 0.10481017471756786\n",
      "Correct Predictions: 177\n",
      "Wrong Predictions: 23\n"
     ]
    },
    {
     "data": {
      "image/png": "[encoded data removed]",
      "text/plain": [
       "<Figure size 432x288 with 1 Axes>"
      ]
     },
     "metadata": {
      "needs_background": "light"
     },
     "output_type": "display_data"
    }
   ],
   "source": [
    "batch_size = 100\n",
    "embedding_size = 5\n",
    "fc_layer_size = (len(positive_data.Gene[0])-(window-1))*embedding_size\n",
    "hidden_layer_size = 100\n",
    "num_layers = 2\n",
    "epochs = 300\n",
    "lr = 0.4\n",
    "train()\n",
    "labels = []\n",
    "test_prediction_model(data_test, labels)\n",
    "results = test_prediction_accuracy(labels)\n",
    "print(\"Correct Predictions:\", results[0])\n",
    "print(\"Wrong Predictions:\", results[1])"
   ]
  },
  {
   "cell_type": "code",
   "execution_count": 166,
   "metadata": {},
   "outputs": [],
   "source": [
    "# batch_size = 100\n",
    "# embedding_size = 5\n",
    "# fc_layer_size = (len(positive_data.Gene[0])-(window-1))*embedding_size\n",
    "# hidden_layer_size = 100\n",
    "# num_layers = 2\n",
    "# epochs = 1000\n",
    "# lr = 0.3\n",
    "# window = 1\n",
    "# train()\n",
    "# labels = []\n",
    "# test_prediction_model(data_test, labels)\n",
    "# results = test_prediction_accuracy(labels)\n",
    "# print(\"Correct Predictions:\", results[0])\n",
    "# print(\"Wrong Predictions:\", results[1])"
   ]
  },
  {
   "cell_type": "code",
   "execution_count": 167,
   "metadata": {},
   "outputs": [],
   "source": [
    "# batch_size = 100\n",
    "# embedding_size = 5\n",
    "# fc_layer_size = (len(positive_data.Gene[0])-(window-1))*embedding_size\n",
    "# hidden_layer_size = 100\n",
    "# num_layers = 2\n",
    "# epochs = 1000\n",
    "# lr = 0.3\n",
    "# window = 3\n",
    "# train()\n",
    "# labels = []\n",
    "# test_prediction_model(data_test, labels)\n",
    "# results = test_prediction_accuracy(labels)\n",
    "# print(\"Correct Predictions:\", results[0])\n",
    "# print(\"Wrong Predictions:\", results[1])"
   ]
  },
  {
   "cell_type": "code",
   "execution_count": 168,
   "metadata": {},
   "outputs": [],
   "source": [
    "# batch_size = 100\n",
    "# embedding_size = 5\n",
    "# fc_layer_size = (len(positive_data.Gene[0])-(window-1))*embedding_size\n",
    "# hidden_layer_size = 100\n",
    "# num_layers = 2\n",
    "# epochs = 1000\n",
    "# lr = 0.3\n",
    "# window = 6\n",
    "# train()\n",
    "# labels = []\n",
    "# test_prediction_model(data_test, labels)\n",
    "# results = test_prediction_accuracy(labels)\n",
    "# print(\"Correct Predictions:\", results[0])\n",
    "# print(\"Wrong Predictions:\", results[1])"
   ]
  },
  {
   "cell_type": "code",
   "execution_count": 48,
   "metadata": {},
   "outputs": [
    {
     "name": "stdout",
     "output_type": "stream",
     "text": [
      "Average Loss at epoch, 0 : 0.2874515069648623\n",
      "Average Loss at epoch, 200 : 0.23227871619164944\n",
      "Average Loss at epoch, 400 : 0.0023827404576877596\n",
      "Correct Predictions: 174\n",
      "Wrong Predictions: 26\n"
     ]
    },
    {
     "data": {
      "image/png": "[encoded data removed]",
      "text/plain": [
       "<Figure size 432x288 with 1 Axes>"
      ]
     },
     "metadata": {
      "needs_background": "light"
     },
     "output_type": "display_data"
    }
   ],
   "source": [
    "batch_size = 100\n",
    "embedding_size = 5\n",
    "fc_layer_size = (len(positive_data.Gene[0])-(window-1))*embedding_size\n",
    "hidden_layer_size = 100\n",
    "num_layers = 2\n",
    "epochs = 500\n",
    "lr = 0.1\n",
    "train()\n",
    "labels = []\n",
    "test_prediction_model(data_test, labels)\n",
    "results = test_prediction_accuracy(labels)\n",
    "print(\"Correct Predictions:\", results[0])\n",
    "print(\"Wrong Predictions:\", results[1])"
   ]
  },
  {
   "cell_type": "code",
   "execution_count": 32,
   "metadata": {},
   "outputs": [
    {
     "name": "stdout",
     "output_type": "stream",
     "text": [
      "Average Loss at epoch, 0 : 0.28824865967035296\n",
      "Correct Predictions: 154\n",
      "Wrong Predictions: 46\n"
     ]
    },
    {
     "data": {
      "image/png": "[encoded data removed]",
      "text/plain": [
       "<Figure size 432x288 with 1 Axes>"
      ]
     },
     "metadata": {
      "needs_background": "light"
     },
     "output_type": "display_data"
    }
   ],
   "source": [
    "batch_size = 100\n",
    "embedding_size = 5\n",
    "fc_layer_size = (len(positive_data.Gene[0])-(window-1))*embedding_size\n",
    "hidden_layer_size = 100\n",
    "num_layers = 2\n",
    "epochs = 200\n",
    "lr = 0.1\n",
    "train()\n",
    "labels = []\n",
    "test_prediction_model(data_test, labels)\n",
    "results = test_prediction_accuracy(labels)\n",
    "print(\"Correct Predictions:\", results[0])\n",
    "print(\"Wrong Predictions:\", results[1])"
   ]
  },
  {
   "cell_type": "code",
   "execution_count": 16,
   "metadata": {},
   "outputs": [
    {
     "name": "stderr",
     "output_type": "stream",
     "text": [
      "/Users/siddarth/anaconda3/lib/python3.7/site-packages/torch/nn/functional.py:2016: UserWarning: Using a target size (torch.Size([100, 1])) that is different to the input size (torch.Size([1, 100, 1])) is deprecated. Please ensure they have the same size.\n",
      "  \"Please ensure they have the same size.\".format(target.size(), input.size()))\n"
     ]
    },
    {
     "name": "stdout",
     "output_type": "stream",
     "text": [
      "Average Loss at epoch, 0 : 0.2889819254167378\n",
      "Average Loss at epoch, 200 : 0.14706794451922178\n",
      "Average Loss at epoch, 400 : 0.008249730119041487\n",
      "Average Loss at epoch, 600 : 0.0008282092742774693\n",
      "Correct Predictions: 179\n",
      "Wrong Predictions: 21\n"
     ]
    },
    {
     "data": {
      "image/png": "[encoded data removed]",
      "text/plain": [
       "<Figure size 432x288 with 1 Axes>"
      ]
     },
     "metadata": {
      "needs_background": "light"
     },
     "output_type": "display_data"
    }
   ],
   "source": [
    "batch_size = 100\n",
    "embedding_size = 5\n",
    "fc_layer_size = (len(positive_data.Gene[0])-(window-1))*embedding_size\n",
    "hidden_layer_size = 100\n",
    "num_layers = 2\n",
    "epochs = 700\n",
    "lr = 0.1\n",
    "train()\n",
    "labels = []\n",
    "test_prediction_model(data_test, labels)\n",
    "results = test_prediction_accuracy(labels)\n",
    "print(\"Correct Predictions:\", results[0])\n",
    "print(\"Wrong Predictions:\", results[1])"
   ]
  },
  {
   "cell_type": "code",
   "execution_count": null,
   "metadata": {},
   "outputs": [],
   "source": []
  }
 ],
 "metadata": {
  "kernelspec": {
   "display_name": "Python 3",
   "language": "python",
   "name": "python3"
  },
  "language_info": {
   "codemirror_mode": {
    "name": "ipython",
    "version": 3
   },
   "file_extension": ".py",
   "mimetype": "text/x-python",
   "name": "python",
   "nbconvert_exporter": "python",
   "pygments_lexer": "ipython3",
   "version": "3.7.1"
  }
 },
 "nbformat": 4,
 "nbformat_minor": 2
}
